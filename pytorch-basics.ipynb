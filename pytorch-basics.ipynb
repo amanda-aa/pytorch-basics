{
 "cells": [
  {
   "cell_type": "markdown",
   "id": "874a19ff",
   "metadata": {},
   "source": [
    "This repository is a register from the\n",
    "course \"PyTorch Basics for Machine Learning\" by IBM. My goal here is create a place of consultation in simplest way as possible.\n",
    "\n",
    "Este repositório é um registro do curso \"PyTorch Fundamentos para Aprendizado de Máquina\" pela IBM. Meu objetivo aqui é criar um local de consulta da maneira mais simples possível."
   ]
  },
  {
   "cell_type": "code",
   "execution_count": 1,
   "id": "7939642b",
   "metadata": {},
   "outputs": [],
   "source": [
    "# pip install torch\n",
    "\n",
    "import torch\n",
    "import pandas as pd\n",
    "import numpy as np\n",
    "\n",
    "import matplotlib.pyplot as plt\n",
    "%matplotlib inline"
   ]
  },
  {
   "cell_type": "code",
   "execution_count": 2,
   "id": "ebee8bdc",
   "metadata": {},
   "outputs": [
    {
     "data": {
      "text/plain": [
       "'1.13.0+cpu'"
      ]
     },
     "execution_count": 2,
     "metadata": {},
     "output_type": "execute_result"
    }
   ],
   "source": [
    "torch.__version__"
   ]
  },
  {
   "cell_type": "code",
   "execution_count": 3,
   "id": "8d2e00fd",
   "metadata": {},
   "outputs": [],
   "source": [
    "def plotVec(vectors):\n",
    "    ax = plt.axes()\n",
    "    \n",
    "    for vec in vectors:\n",
    "        ax.arrow(0, 0, *vec[\"vector\"], head_width = 0.05, color = vec[\"color\"], head_lenght = 0.1)\n",
    "        plt.text(*(vec[\"vector\"]+0.1), vec[\"name\"])\n",
    "        \n",
    "    plt.ylim(-2,2)\n",
    "    plt.xlim(-2,2)"
   ]
  },
  {
   "cell_type": "code",
   "execution_count": 4,
   "id": "cf380ae6",
   "metadata": {},
   "outputs": [
    {
     "name": "stdout",
     "output_type": "stream",
     "text": [
      "The dtype after converting it to tensor torch.int64\n",
      "The type of tensor object after converting it to tensor torch.LongTensor\n"
     ]
    }
   ],
   "source": [
    "ints_to_tensor = torch.tensor([0,1,2,3,4])\n",
    "print(\"The dtype after converting it to tensor\", ints_to_tensor.dtype)\n",
    "print(\"The type of tensor object after converting it to tensor\", ints_to_tensor.type())"
   ]
  },
  {
   "cell_type": "code",
   "execution_count": 5,
   "id": "d0e61b42",
   "metadata": {},
   "outputs": [
    {
     "data": {
      "text/plain": [
       "torch.Tensor"
      ]
     },
     "execution_count": 5,
     "metadata": {},
     "output_type": "execute_result"
    }
   ],
   "source": [
    "type(ints_to_tensor)"
   ]
  },
  {
   "cell_type": "code",
   "execution_count": 6,
   "id": "8c196ee9",
   "metadata": {},
   "outputs": [
    {
     "name": "stdout",
     "output_type": "stream",
     "text": [
      "The dtype after converting it to tensor torch.float32\n",
      "The type of tensor object after converting it to tensor torch.FloatTensor\n"
     ]
    }
   ],
   "source": [
    "floats_to_tensor = torch.tensor([0.0,1.0,2.0,3.0,4.0])\n",
    "print(\"The dtype after converting it to tensor\", floats_to_tensor.dtype)\n",
    "print(\"The type of tensor object after converting it to tensor\", floats_to_tensor.type())"
   ]
  },
  {
   "cell_type": "code",
   "execution_count": 7,
   "id": "b2c77bd8",
   "metadata": {},
   "outputs": [
    {
     "name": "stderr",
     "output_type": "stream",
     "text": [
      "C:\\Users\\Acer\\AppData\\Local\\Temp/ipykernel_7644/4071669396.py:3: DeprecationWarning: an integer is required (got type float).  Implicit conversion to integers using __int__ is deprecated, and may be removed in a future version of Python.\n",
      "  floats_int_tensor=torch.tensor(list_of_floats, dtype=torch.int64)\n"
     ]
    }
   ],
   "source": [
    "list_of_floats = [0.0,1.0,2.0,3.0,4.0]\n",
    "\n",
    "floats_int_tensor=torch.tensor(list_of_floats, dtype=torch.int64)"
   ]
  },
  {
   "cell_type": "code",
   "execution_count": 8,
   "id": "fd1b04d5",
   "metadata": {},
   "outputs": [
    {
     "name": "stdout",
     "output_type": "stream",
     "text": [
      "The dtype after converting it to tensor torch.int64\n",
      "The type of tensor object after converting it to tensor torch.LongTensor\n"
     ]
    }
   ],
   "source": [
    "print(\"The dtype after converting it to tensor\", floats_int_tensor.dtype)\n",
    "print(\"The type of tensor object after converting it to tensor\", floats_int_tensor.type())"
   ]
  },
  {
   "cell_type": "markdown",
   "id": "38eb8c68",
   "metadata": {},
   "source": [
    "The elements in the list that will be converted to a tensor must have the same type.\n",
    "\n",
    "Os elementos na lista que serão convertidos para tensor devem ter o mesmo tipo."
   ]
  },
  {
   "cell_type": "code",
   "execution_count": 9,
   "id": "3b3e4658",
   "metadata": {},
   "outputs": [
    {
     "name": "stdout",
     "output_type": "stream",
     "text": [
      "The type of new_float_tensor: torch.FloatTensor\n"
     ]
    }
   ],
   "source": [
    "new_float_tensor = torch.FloatTensor([0,1,2,3,4])\n",
    "new_float_tensor.type()\n",
    "print('The type of new_float_tensor:', new_float_tensor.type())"
   ]
  },
  {
   "cell_type": "code",
   "execution_count": null,
   "id": "7eef7e10",
   "metadata": {},
   "outputs": [],
   "source": []
  }
 ],
 "metadata": {
  "kernelspec": {
   "display_name": "Python 3 (ipykernel)",
   "language": "python",
   "name": "python3"
  },
  "language_info": {
   "codemirror_mode": {
    "name": "ipython",
    "version": 3
   },
   "file_extension": ".py",
   "mimetype": "text/x-python",
   "name": "python",
   "nbconvert_exporter": "python",
   "pygments_lexer": "ipython3",
   "version": "3.9.7"
  }
 },
 "nbformat": 4,
 "nbformat_minor": 5
}
